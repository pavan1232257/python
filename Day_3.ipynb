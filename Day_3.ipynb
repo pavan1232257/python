{
  "nbformat": 4,
  "nbformat_minor": 0,
  "metadata": {
    "colab": {
      "provenance": []
    },
    "kernelspec": {
      "name": "python3",
      "display_name": "Python 3"
    },
    "language_info": {
      "name": "python"
    }
  },
  "cells": [
    {
      "cell_type": "code",
      "execution_count": null,
      "metadata": {
        "id": "Q7kcUqtuscLK",
        "outputId": "2d8b8307-3541-4fcc-ddd6-7891ced8b0c9",
        "colab": {
          "base_uri": "https://localhost:8080/"
        }
      },
      "outputs": [
        {
          "output_type": "stream",
          "name": "stdout",
          "text": [
            "[1, 2, 3, 4, 5, 6, 7, 8, 9, 10, 11, 12, 13, 14, 15, 16, 17, 18, 19, 20]\n"
          ]
        }
      ],
      "source": [
        "#Create a list of numbers from 1 to 20 using list comprehension.\n",
        "l =[]\n",
        "for i in range(1, 21):\n",
        "  l.append(i)\n",
        "\n",
        "print(l)\n"
      ]
    },
    {
      "cell_type": "code",
      "source": [
        "#Generate a list of squares for numbers from 1 to 10.\n",
        "l_2= []\n",
        "i=0\n",
        "for i in range(1,11):\n",
        "  l_2.append(i**2)\n",
        "print(l_2)\n"
      ],
      "metadata": {
        "colab": {
          "base_uri": "https://localhost:8080/"
        },
        "id": "JBDokbyp-Muc",
        "outputId": "e6c78916-2cf9-41f4-c21f-95cbf5340f85"
      },
      "execution_count": null,
      "outputs": [
        {
          "output_type": "stream",
          "name": "stdout",
          "text": [
            "[1, 4, 9, 16, 25, 36, 49, 64, 81, 100]\n"
          ]
        }
      ]
    },
    {
      "cell_type": "code",
      "source": [
        "#Convert all words in a list to lowercase using list comprehension\n",
        "k =[\"pavAn\", \"BHaskar\"]\n",
        "p= \"LaKshman\"\n",
        "print(p.lower())\n",
        "emp = []\n",
        "i=0\n",
        "for i in k:\n",
        "  emp.append(i.lower())\n",
        "\n",
        "print(emp)\n",
        "print(k)\n",
        "\n"
      ],
      "metadata": {
        "colab": {
          "base_uri": "https://localhost:8080/"
        },
        "id": "Ub-7Y1YI_M4n",
        "outputId": "bd1a4483-7146-4bf9-b7f2-e5ba81f9d191"
      },
      "execution_count": null,
      "outputs": [
        {
          "output_type": "stream",
          "name": "stdout",
          "text": [
            "lakshman\n",
            "['pavan', 'bhaskar']\n",
            "['pavAn', 'BHaskar']\n"
          ]
        }
      ]
    },
    {
      "cell_type": "code",
      "source": [
        "#Create a list of all even numbers from 1 to 50.\n",
        "l=[]\n",
        "for i in range(1,51):\n",
        "  if i%2==0:\n",
        "    l.append(i)\n",
        "print(l)\n"
      ],
      "metadata": {
        "colab": {
          "base_uri": "https://localhost:8080/"
        },
        "id": "RZRlrvvZvdM1",
        "outputId": "9380d275-4d22-441d-d171-d769f595ad45"
      },
      "execution_count": null,
      "outputs": [
        {
          "output_type": "stream",
          "name": "stdout",
          "text": [
            "[2, 4, 6, 8, 10, 12, 14, 16, 18, 20, 22, 24, 26, 28, 30, 32, 34, 36, 38, 40, 42, 44, 46, 48, 50]\n"
          ]
        }
      ]
    },
    {
      "cell_type": "code",
      "source": [
        "\n",
        "#Extract all vowels from a string into a list.\n",
        "st = \"Brianna Hildebrand\"\n",
        "v =[]\n",
        "for char in st:\n",
        "  if char in \"aeiouAEIOU\":\n",
        "    v.append(char)\n",
        "print(v)\n"
      ],
      "metadata": {
        "colab": {
          "base_uri": "https://localhost:8080/"
        },
        "id": "m2yW0_-7K-sb",
        "outputId": "057f638b-16a4-44dd-db9c-9765aeff439a"
      },
      "execution_count": null,
      "outputs": [
        {
          "output_type": "stream",
          "name": "stdout",
          "text": [
            "['i', 'a', 'a', 'i', 'e', 'a']\n"
          ]
        }
      ]
    },
    {
      "cell_type": "code",
      "source": [
        "#Create a list of tuples, where each tuple contains a number and its cube for numbers from 1 to 10.\n",
        "p =[]\n",
        "for i in range(1,11):\n",
        "  p.append((i, i**3))\n",
        "print(p)"
      ],
      "metadata": {
        "id": "3s5RWpU6zPSq",
        "colab": {
          "base_uri": "https://localhost:8080/"
        },
        "outputId": "68c029d2-91b5-4101-97fe-42cefa8cf6f2"
      },
      "execution_count": null,
      "outputs": [
        {
          "output_type": "stream",
          "name": "stdout",
          "text": [
            "[(1, 1), (2, 8), (3, 27), (4, 64), (5, 125), (6, 216), (7, 343), (8, 512), (9, 729), (10, 1000)]\n"
          ]
        }
      ]
    },
    {
      "cell_type": "code",
      "source": [
        "#Flatten a 2D list into a single list.\n",
        "\n",
        "import itertools\n",
        "two_d_list = [[1, 2, 3], [4, 5, 6], [7, 8, 9],[7,9,0]]\n",
        "flattened_list = list(itertools.chain(*two_d_list))\n",
        "print(flattened_list)\n"
      ],
      "metadata": {
        "id": "IuFdEd80EZ9s",
        "colab": {
          "base_uri": "https://localhost:8080/"
        },
        "outputId": "e74bff7b-7e5b-44fb-b53c-575d93b43096"
      },
      "execution_count": null,
      "outputs": [
        {
          "output_type": "stream",
          "name": "stdout",
          "text": [
            "[1, 2, 3, 4, 5, 6, 7, 8, 9, 7, 9, 0]\n"
          ]
        }
      ]
    },
    {
      "cell_type": "code",
      "source": [
        "#Use list comprehension to filter out non-prime numbers from a given list of integers.\n",
        "def is_prime(n):\n",
        "    if n <= 1:\n",
        "        return False\n",
        "    if n <= 3:\n",
        "        return True\n",
        "    if n % 2 == 0 or n % 3 == 0:\n",
        "        return False\n",
        "\n",
        "is_prime(45)"
      ],
      "metadata": {
        "id": "EQ-64zuTEZQq",
        "colab": {
          "base_uri": "https://localhost:8080/"
        },
        "outputId": "057af563-3682-48d0-9b34-15c201e54988"
      },
      "execution_count": null,
      "outputs": [
        {
          "output_type": "execute_result",
          "data": {
            "text/plain": [
              "False"
            ]
          },
          "metadata": {},
          "execution_count": 5
        }
      ]
    },
    {
      "cell_type": "code",
      "source": [
        "#Create a list of palindromic words from a list of strings.\n",
        "word = \"madam\"\n",
        "if word == word[::-1]:  # word[::-1] reverses the string\n",
        "    print(\"It's a palindrome!\")\n",
        "else:\n",
        "    print(\"It's not a palindrome.\")\n"
      ],
      "metadata": {
        "id": "Q1c__VpPEZpp",
        "colab": {
          "base_uri": "https://localhost:8080/"
        },
        "outputId": "3505a1f7-9548-4da5-d6e6-b9e60fc16a76"
      },
      "execution_count": null,
      "outputs": [
        {
          "output_type": "stream",
          "name": "stdout",
          "text": [
            "It's a palindrome!\n"
          ]
        }
      ]
    },
    {
      "cell_type": "code",
      "source": [
        "#Create a set of unique characters from the string \"hello world\".\n",
        "string = \"hello world\"\n",
        "unique_chars = set(string)\n",
        "print(unique_chars)"
      ],
      "metadata": {
        "colab": {
          "base_uri": "https://localhost:8080/"
        },
        "id": "VCyyO7Q00CO2",
        "outputId": "a7fd42a5-7b9c-453b-b75d-32adb93ab9d4"
      },
      "execution_count": null,
      "outputs": [
        {
          "output_type": "stream",
          "name": "stdout",
          "text": [
            "{' ', 'r', 'w', 'e', 'd', 'l', 'o', 'h'}\n"
          ]
        }
      ]
    },
    {
      "cell_type": "code",
      "source": [
        "#Generate a set of squares of numbers from 1 to 10.\n",
        "\n",
        "# Generate a set of squares of numbers from 1 to 10\n",
        "squares = {x ** 2 for x in range(1, 11)}\n",
        "\n",
        "# Print the set of squares\n",
        "print(squares)\n"
      ],
      "metadata": {
        "colab": {
          "base_uri": "https://localhost:8080/"
        },
        "id": "pwsyeAsR0cZT",
        "outputId": "8799533f-e592-4d34-a0c0-bda840736df0"
      },
      "execution_count": null,
      "outputs": [
        {
          "output_type": "stream",
          "name": "stdout",
          "text": [
            "{64, 1, 4, 36, 100, 9, 16, 49, 81, 25}\n"
          ]
        }
      ]
    },
    {
      "cell_type": "code",
      "source": [
        "#Find the unique lengths of words in a given sentence.\n",
        "k = \"pavan kumar\"\n",
        "s = k.split()\n",
        "print(type(s))\n",
        "print(len(k))\n",
        "print(len(s))"
      ],
      "metadata": {
        "colab": {
          "base_uri": "https://localhost:8080/"
        },
        "id": "MEKtEaTi0ct2",
        "outputId": "1377955a-b94c-457d-a59b-3f1739a6494c"
      },
      "execution_count": null,
      "outputs": [
        {
          "output_type": "stream",
          "name": "stdout",
          "text": [
            "<class 'list'>\n",
            "11\n",
            "2\n"
          ]
        }
      ]
    },
    {
      "cell_type": "code",
      "source": [
        "#Generate a set of numbers from 1 to 50 that are divisible by both 2 and 3.\n",
        "n = 50\n",
        "set_n = set()\n",
        "for n in range(1,51):\n",
        "  if n%2==0 and n%3==0:\n",
        "    set_n.add(n)\n",
        "print(set_n)"
      ],
      "metadata": {
        "colab": {
          "base_uri": "https://localhost:8080/"
        },
        "id": "76yCoPwn23g3",
        "outputId": "53191d98-a666-4812-8ad4-947a825e1d28"
      },
      "execution_count": null,
      "outputs": [
        {
          "output_type": "stream",
          "name": "stdout",
          "text": [
            "{36, 6, 42, 12, 48, 18, 24, 30}\n"
          ]
        }
      ]
    },
    {
      "cell_type": "code",
      "source": [
        "#Generate a set of common factors of two given numbers using a set comprehension.\n",
        "def common_factors(a, b):\n",
        "    # Use set comprehension to find common factors of a and b\n",
        "    return {x for x in range(1, min(a, b) + 1) if a % x == 0 and b % x == 0}\n",
        "\n",
        "# Example input\n",
        "a = 36\n",
        "b = 60\n",
        "\n",
        "# Get common factors of a and b\n",
        "factors = common_factors(a, b)\n",
        "\n",
        "# Print the result\n",
        "print(factors)\n"
      ],
      "metadata": {
        "colab": {
          "base_uri": "https://localhost:8080/"
        },
        "id": "pDHjj4eR5leH",
        "outputId": "5551a45c-f3c1-4715-cd87-e78d25159f38"
      },
      "execution_count": null,
      "outputs": [
        {
          "output_type": "stream",
          "name": "stdout",
          "text": [
            "{1, 2, 3, 4, 6, 12}\n"
          ]
        }
      ]
    },
    {
      "cell_type": "code",
      "source": [
        "#Create a dictionary where keys are numbers from 1 to 5, and values are their squares.\n",
        "squares_dict = {1: 1, 2: 4, 3: 9, 4: 16, 5: 25}\n",
        "print(squares_dict)\n"
      ],
      "metadata": {
        "id": "WpWoaaVd23zF",
        "colab": {
          "base_uri": "https://localhost:8080/"
        },
        "outputId": "92634574-65cd-4b6b-9610-1d6a73d36887"
      },
      "execution_count": null,
      "outputs": [
        {
          "output_type": "stream",
          "name": "stdout",
          "text": [
            "{1: 1, 2: 4, 3: 9, 4: 16, 5: 25}\n"
          ]
        }
      ]
    },
    {
      "cell_type": "code",
      "source": [
        "#Convert a list of words into a dictionary with words as keys and their lengths as values.\n",
        "words = ['apple', 'banana', 'cherry', 'date']\n",
        "word_lengths = {word: len(word) for word in words}\n",
        "\n",
        "print(word_lengths)\n"
      ],
      "metadata": {
        "id": "4BWhjcMZ1P3y",
        "colab": {
          "base_uri": "https://localhost:8080/"
        },
        "outputId": "06fea157-77af-49a1-c853-4f24da442418"
      },
      "execution_count": null,
      "outputs": [
        {
          "output_type": "stream",
          "name": "stdout",
          "text": [
            "{'apple': 5, 'banana': 6, 'cherry': 6, 'date': 4}\n"
          ]
        }
      ]
    },
    {
      "cell_type": "code",
      "source": [
        "import math\n",
        "\n",
        "factorial_dict = {n: math.factorial(n) for n in range(1, 7)}\n",
        "\n",
        "print(factorial_dict)\n"
      ],
      "metadata": {
        "colab": {
          "base_uri": "https://localhost:8080/"
        },
        "id": "XAMEKxodV5Bd",
        "outputId": "8bdbf537-1f95-4c17-98eb-09b9395a7e31"
      },
      "execution_count": null,
      "outputs": [
        {
          "output_type": "stream",
          "name": "stdout",
          "text": [
            "{1: 1, 2: 2, 3: 6, 4: 24, 5: 120, 6: 720}\n"
          ]
        }
      ]
    },
    {
      "cell_type": "code",
      "source": [
        "#Convert two lists into a dictionary using dictionary comprehension.\n",
        "keys = ['a', 'b', 'c', 'd']\n",
        "values = [1, 2, 3, 4]\n",
        "\n",
        "# Using dictionary comprehension to create the dictionary\n",
        "result_dict = {keys[i]: values[i] for i in range(len(keys))}\n",
        "\n",
        "print(result_dict)\n"
      ],
      "metadata": {
        "colab": {
          "base_uri": "https://localhost:8080/"
        },
        "id": "rADyd5cCV5a-",
        "outputId": "d8f4c64c-56a0-4233-cd20-bbad9d5d3392"
      },
      "execution_count": null,
      "outputs": [
        {
          "output_type": "stream",
          "name": "stdout",
          "text": [
            "{'a': 1, 'b': 2, 'c': 3, 'd': 4}\n"
          ]
        }
      ]
    },
    {
      "cell_type": "code",
      "source": [
        "\n",
        "original_dict = {'a': 1, 'b': 2, 'c': 3}\n",
        "reversed_dict = {}\n",
        "for key, value in original_dict.items():\n",
        "    reversed_dict[value] = key\n",
        "\n",
        "print(reversed_dict)\n"
      ],
      "metadata": {
        "colab": {
          "base_uri": "https://localhost:8080/"
        },
        "id": "0ZT-nSEGWRuL",
        "outputId": "a28c6512-7087-40b6-97f4-956f3e4dd1e7"
      },
      "execution_count": null,
      "outputs": [
        {
          "output_type": "stream",
          "name": "stdout",
          "text": [
            "{1: 'a', 2: 'b', 3: 'c'}\n"
          ]
        }
      ]
    },
    {
      "cell_type": "code",
      "source": [
        "\n",
        "#Create a frequency count of characters in a string using dictionary comprehension.\n",
        "\n",
        "input_string = \"hello world\"\n",
        "\n",
        "# Using dictionary comprehension to count character frequencies\n",
        "char_count = {char: input_string.count(char) for char in set(input_string)}\n",
        "\n",
        "print(char_count)\n"
      ],
      "metadata": {
        "id": "50GgfIPuWR_3"
      },
      "execution_count": null,
      "outputs": []
    },
    {
      "cell_type": "code",
      "source": [
        "dict1 = {'a': 1, 'b': 2, 'c': 3}\n",
        "dict2 = {'b': 20, 'c': 30, 'd': 40}\n",
        "\n",
        "\n",
        "merged_dict = {}\n",
        "\n",
        "# Get the union of the keys from both dictionaries\n",
        "all_keys = set(dict1) | set(dict2)\n",
        "\n",
        "\n",
        "for key in all_keys:\n",
        "\n",
        "    if key in dict1:\n",
        "        merged_dict[key] = dict1[key]\n",
        "    else:\n",
        "        merged_dict[key] = dict2[key]\n",
        "\n",
        "print(merged_dict)\n"
      ],
      "metadata": {
        "colab": {
          "base_uri": "https://localhost:8080/"
        },
        "id": "WF-xjCFYWu1-",
        "outputId": "95777d2d-1a16-4b68-bc88-5d1e9cf6e41e"
      },
      "execution_count": null,
      "outputs": [
        {
          "output_type": "stream",
          "name": "stdout",
          "text": [
            "{'d': 40, 'c': 3, 'b': 2, 'a': 1}\n"
          ]
        }
      ]
    },
    {
      "cell_type": "code",
      "source": [
        "#Write a function to calculate the area of a rectangle.\n",
        "\n",
        "\n",
        "# Area of rectangle = length * width\n",
        "\n",
        "def calculate_area(length, width):\n",
        "\n",
        "    return length * width\n",
        "\n",
        "\n",
        "print(calculate_area(4,6))\n"
      ],
      "metadata": {
        "colab": {
          "base_uri": "https://localhost:8080/"
        },
        "id": "6pLM-k6SXWM_",
        "outputId": "d03da41f-02d6-4d67-b7d2-9c9a1b1b6abf"
      },
      "execution_count": null,
      "outputs": [
        {
          "output_type": "stream",
          "name": "stdout",
          "text": [
            "24\n"
          ]
        }
      ]
    },
    {
      "cell_type": "code",
      "source": [
        "#Create a module with a function to check whether a number is even or odd.\n",
        "\n",
        "def check_even_odd(number):\n",
        "    if number % 2 == 0:\n",
        "        return \"Even\"\n",
        "    else:\n",
        "        return \"Odd\"\n",
        "\n",
        "nu = int(input(\"value :\"))\n",
        "print(check_even_odd(nu))"
      ],
      "metadata": {
        "colab": {
          "base_uri": "https://localhost:8080/"
        },
        "id": "OBkuI1fTXWks",
        "outputId": "d8f2ad24-ba33-4294-c857-d99a3b8c666d"
      },
      "execution_count": null,
      "outputs": [
        {
          "output_type": "stream",
          "name": "stdout",
          "text": [
            "value :78\n",
            "Even\n"
          ]
        }
      ]
    },
    {
      "cell_type": "code",
      "source": [
        "#Write a function to return the maximum of three numbers\n",
        "\n",
        "def maximum_of_three(a, b, c):\n",
        "    if a >= b and a >= c:\n",
        "        return a\n",
        "    elif b >= a and b >= c:\n",
        "        return b\n",
        "    else:\n",
        "        return c\n",
        "\n",
        "import sys\n",
        "sys.path.append('/path/to/math_operations_directory')\n",
        "\n",
        "from math_operations import add, subtract, multiply, divide\n",
        "print(maximum_of_three(4,6,8))"
      ],
      "metadata": {
        "colab": {
          "base_uri": "https://localhost:8080/"
        },
        "id": "Zc7nK45nYKR0",
        "outputId": "858a0e3e-7319-4c86-db73-b4c36d4bcb6d"
      },
      "execution_count": null,
      "outputs": [
        {
          "output_type": "stream",
          "name": "stdout",
          "text": [
            "8\n"
          ]
        }
      ]
    },
    {
      "cell_type": "code",
      "source": [
        "#Create a package containing modules for basic arithmetic operations (add, subtract, multiply, divide).\n",
        "\n",
        "import sys\n",
        "# Assuming math_operations.py is in the same directory as this script\n",
        "sys.path.append('/tmp')\n",
        "#def add\n",
        "#/tmp/matha_operationas\n",
        "\n",
        "#from tmp.matha_operationas import add\n",
        "from tmp import matha_operationas\n",
        "\n",
        "result_add = matha_operationas.add(5, 3)\n",
        "print(f\"Addition: {result_add}\")\n",
        "\n"
      ],
      "metadata": {
        "colab": {
          "base_uri": "https://localhost:8080/",
          "height": 216
        },
        "id": "JlK64D6oYZnd",
        "outputId": "21ecd06c-cf11-4efa-85e6-a5ba2c647835"
      },
      "execution_count": null,
      "outputs": [
        {
          "output_type": "error",
          "ename": "AttributeError",
          "evalue": "module 'tmp.matha_operationas' has no attribute 'add'",
          "traceback": [
            "\u001b[0;31m---------------------------------------------------------------------------\u001b[0m",
            "\u001b[0;31mAttributeError\u001b[0m                            Traceback (most recent call last)",
            "\u001b[0;32m<ipython-input-49-691262d06b5a>\u001b[0m in \u001b[0;36m<cell line: 12>\u001b[0;34m()\u001b[0m\n\u001b[1;32m     10\u001b[0m \u001b[0;32mfrom\u001b[0m \u001b[0mtmp\u001b[0m \u001b[0;32mimport\u001b[0m \u001b[0mmatha_operationas\u001b[0m\u001b[0;34m\u001b[0m\u001b[0;34m\u001b[0m\u001b[0m\n\u001b[1;32m     11\u001b[0m \u001b[0;34m\u001b[0m\u001b[0m\n\u001b[0;32m---> 12\u001b[0;31m \u001b[0mresult_add\u001b[0m \u001b[0;34m=\u001b[0m \u001b[0mmatha_operationas\u001b[0m\u001b[0;34m.\u001b[0m\u001b[0madd\u001b[0m\u001b[0;34m(\u001b[0m\u001b[0;36m5\u001b[0m\u001b[0;34m,\u001b[0m \u001b[0;36m3\u001b[0m\u001b[0;34m)\u001b[0m\u001b[0;34m\u001b[0m\u001b[0;34m\u001b[0m\u001b[0m\n\u001b[0m\u001b[1;32m     13\u001b[0m \u001b[0mprint\u001b[0m\u001b[0;34m(\u001b[0m\u001b[0;34mf\"Addition: {result_add}\"\u001b[0m\u001b[0;34m)\u001b[0m\u001b[0;34m\u001b[0m\u001b[0;34m\u001b[0m\u001b[0m\n\u001b[1;32m     14\u001b[0m \u001b[0;34m\u001b[0m\u001b[0m\n",
            "\u001b[0;31mAttributeError\u001b[0m: module 'tmp.matha_operationas' has no attribute 'add'"
          ]
        }
      ]
    },
    {
      "cell_type": "code",
      "source": [
        "import sys\n",
        "\n",
        "# Add the correct directory to the path\n",
        "sys.path.append('/tmp')\n",
        "\n",
        "# Import the module and function\n",
        "from matha_operationas import add\n",
        "\n",
        "# Use the add function\n",
        "result_add = add(5, 3)\n",
        "print(f\"Addition: {result_add}\")\n"
      ],
      "metadata": {
        "colab": {
          "base_uri": "https://localhost:8080/"
        },
        "id": "Nmsle_GxzzEB",
        "outputId": "61cae0a4-5d8c-4dda-93ea-00546c623e78"
      },
      "execution_count": null,
      "outputs": [
        {
          "output_type": "stream",
          "name": "stdout",
          "text": [
            "Addition: 8\n"
          ]
        }
      ]
    },
    {
      "cell_type": "code",
      "source": [
        "import sys\n",
        "\n",
        "print(sys.version)"
      ],
      "metadata": {
        "colab": {
          "base_uri": "https://localhost:8080/"
        },
        "id": "MuEl22cR2yhN",
        "outputId": "e1f572d8-64aa-4c0c-8388-09e7c373cf70"
      },
      "execution_count": null,
      "outputs": [
        {
          "output_type": "stream",
          "name": "stdout",
          "text": [
            "3.10.12 (main, Nov  6 2024, 20:22:13) [GCC 11.4.0]\n"
          ]
        }
      ]
    },
    {
      "cell_type": "markdown",
      "source": [
        "# New Section"
      ],
      "metadata": {
        "id": "oodEubCGqEaK"
      }
    },
    {
      "cell_type": "code",
      "source": [
        "#Write a function to compute the Fibonacci sequence up to a given number using recursion.\n",
        "def fibonacci(n):\n",
        "    \"\"\"Return the nth Fibonacci number.\"\"\"\n",
        "    if n <= 1:\n",
        "        return n\n",
        "    else:\n",
        "        return fibonacci(n - 1) + fibonacci(n - 2)\n",
        "\n",
        "fibonacci(9)\n",
        "\n"
      ],
      "metadata": {
        "colab": {
          "base_uri": "https://localhost:8080/"
        },
        "id": "uOSIIOABYZ4G",
        "outputId": "36b0aca5-e8e0-4130-9281-48965dd909da"
      },
      "execution_count": null,
      "outputs": [
        {
          "output_type": "execute_result",
          "data": {
            "text/plain": [
              "34"
            ]
          },
          "metadata": {},
          "execution_count": 20
        }
      ]
    },
    {
      "cell_type": "code",
      "source": [
        "\n",
        "import csv_filter\n",
        "csv.\n",
        "# Example condition function to filter rows\n",
        "def condition(row):\n",
        "    # Example: filter rows where the value in the second column (index 1) is greater than 50\n",
        "    return int(row[1]) > 50  # Assumes the second column contains numeric values\n",
        "\n",
        "# Path to the input CSV file\n",
        "input_file = 'input_data.csv'\n",
        "\n",
        "# Read the CSV file\n",
        "header, rows = csv_filter.read_csv(input_file)\n",
        "\n",
        "# Filter the rows based on the condition\n",
        "filtered_rows = csv_filter.filter_rows(rows, condition)\n",
        "\n",
        "# Path to the output CSV file\n",
        "output_file = 'filtered_data.csv'\n",
        "\n",
        "# Save the filtered rows to a new CSV file\n",
        "csv_filter.save_filtered_csv(output_file, header, filtered_rows)\n",
        "\n",
        "print(f\"Filtered data saved to {output_file}\")\n"
      ],
      "metadata": {
        "colab": {
          "base_uri": "https://localhost:8080/",
          "height": 393
        },
        "id": "MM5Ow65Va2Dq",
        "outputId": "2698fab6-aa26-4bd7-9b79-47c7401007a4"
      },
      "execution_count": null,
      "outputs": [
        {
          "output_type": "error",
          "ename": "ModuleNotFoundError",
          "evalue": "No module named 'csv_filter'",
          "traceback": [
            "\u001b[0;31m---------------------------------------------------------------------------\u001b[0m",
            "\u001b[0;31mModuleNotFoundError\u001b[0m                       Traceback (most recent call last)",
            "\u001b[0;32m<ipython-input-53-df06ea01b20f>\u001b[0m in \u001b[0;36m<cell line: 1>\u001b[0;34m()\u001b[0m\n\u001b[0;32m----> 1\u001b[0;31m \u001b[0;32mimport\u001b[0m \u001b[0mcsv_filter\u001b[0m\u001b[0;34m\u001b[0m\u001b[0;34m\u001b[0m\u001b[0m\n\u001b[0m\u001b[1;32m      2\u001b[0m \u001b[0;34m\u001b[0m\u001b[0m\n\u001b[1;32m      3\u001b[0m \u001b[0;31m# Example condition function to filter rows\u001b[0m\u001b[0;34m\u001b[0m\u001b[0;34m\u001b[0m\u001b[0m\n\u001b[1;32m      4\u001b[0m \u001b[0;32mdef\u001b[0m \u001b[0mcondition\u001b[0m\u001b[0;34m(\u001b[0m\u001b[0mrow\u001b[0m\u001b[0;34m)\u001b[0m\u001b[0;34m:\u001b[0m\u001b[0;34m\u001b[0m\u001b[0;34m\u001b[0m\u001b[0m\n\u001b[1;32m      5\u001b[0m     \u001b[0;31m# Example: filter rows where the value in the second column (index 1) is greater than 50\u001b[0m\u001b[0;34m\u001b[0m\u001b[0;34m\u001b[0m\u001b[0m\n",
            "\u001b[0;31mModuleNotFoundError\u001b[0m: No module named 'csv_filter'",
            "",
            "\u001b[0;31m---------------------------------------------------------------------------\u001b[0;32m\nNOTE: If your import is failing due to a missing package, you can\nmanually install dependencies using either !pip or !apt.\n\nTo view examples of installing some common dependencies, click the\n\"Open Examples\" button below.\n\u001b[0;31m---------------------------------------------------------------------------\u001b[0m\n"
          ],
          "errorDetails": {
            "actions": [
              {
                "action": "open_url",
                "actionText": "Open Examples",
                "url": "/notebooks/snippets/importing_libraries.ipynb"
              }
            ]
          }
        }
      ]
    },
    {
      "cell_type": "code",
      "source": [],
      "metadata": {
        "id": "Bnik45j8836q"
      },
      "execution_count": null,
      "outputs": []
    },
    {
      "cell_type": "code",
      "source": [
        "def nth_root(x, n):\n",
        "    \"\"\"\n",
        "    Calculate the n-th root of a number x.\n",
        "\n",
        "    Args:\n",
        "        x: The number to take the n-th root of.\n",
        "        n: The degree of the root (e.g., 2 for square root, 3 for cube root).\n",
        "\n",
        "    Returns:\n",
        "        The n-th root of x.\n",
        "\n",
        "    Raises:\n",
        "        ValueError: If n is 0 or x is negative for even n.\n",
        "        TypeError: If x or n are not numbers.\n",
        "    \"\"\"\n",
        "    try:\n",
        "        # Ensure the inputs are valid numbers\n",
        "        if not isinstance(x, (int, float)) or not isinstance(n, (int, float)):\n",
        "            raise TypeError(\"Both x and n must be numbers (int or float).\")\n",
        "\n",
        "        # Handle the case where the root degree is 0\n",
        "        if n == 0:\n",
        "            raise ValueError(\"The root degree n cannot be zero.\")\n",
        "\n",
        "        # Handle the case for even roots of negative numbers\n",
        "        if x < 0 and n % 2 == 0:\n",
        "            raise ValueError(\"Cannot compute an even root of a negative number.\")\n",
        "\n",
        "        # Calculate the n-th root\n",
        "        return x ** (1 / n)\n",
        "\n",
        "    except ValueError as ve:\n",
        "        return f\"Error: {ve}\"\n",
        "    except TypeError as te:\n",
        "        return f\"Error: {te}\"\n",
        "\n",
        "# Example usage:\n",
        "print(nth_root(16, 2))\n",
        "print(nth_root(27, 3))\n",
        "print(nth_root(-27, 3)) # Should print -3.0 (Cube root of -27)\n",
        "print(nth_root(-16, 2)) # Should print an error message\n",
        "print(nth_root(16, 0))  # Should print an error message\n",
        "print(nth_root('16', 2)) # Should print an error message\n"
      ],
      "metadata": {
        "colab": {
          "base_uri": "https://localhost:8080/"
        },
        "id": "DSAyQuVdbpGO",
        "outputId": "a2db79a4-4dc1-4ce6-d220-25d39805cf76"
      },
      "execution_count": null,
      "outputs": [
        {
          "output_type": "stream",
          "name": "stdout",
          "text": [
            "4.0\n",
            "3.0\n",
            "(1.5000000000000004+2.598076211353316j)\n",
            "Error: Cannot compute an even root of a negative number.\n",
            "Error: The root degree n cannot be zero.\n",
            "Error: Both x and n must be numbers (int or float).\n"
          ]
        }
      ]
    },
    {
      "cell_type": "code",
      "source": [
        "#Extract the first three elements from a list.\n",
        "\n",
        "\n",
        "my_list = [10, 20, 30, 40, 50]\n",
        "\n",
        "\n",
        "first_three_elements = my_list[:3]\n",
        "\n",
        "print(first_three_elements)\n",
        "\n"
      ],
      "metadata": {
        "colab": {
          "base_uri": "https://localhost:8080/"
        },
        "id": "SSUZYLCBa2dt",
        "outputId": "4660b31d-4c8f-4b9f-c038-d0c9b464f294"
      },
      "execution_count": null,
      "outputs": [
        {
          "output_type": "stream",
          "name": "stdout",
          "text": [
            "[10, 20, 30]\n"
          ]
        }
      ]
    },
    {
      "cell_type": "code",
      "source": [
        "#Reverse a list using slicing.\n",
        "l = [1,2,3,4,5]\n",
        "l[::-1]\n"
      ],
      "metadata": {
        "colab": {
          "base_uri": "https://localhost:8080/"
        },
        "id": "_qhJEe2CdWlW",
        "outputId": "ffc26597-d876-4974-8db9-7d798954650d"
      },
      "execution_count": null,
      "outputs": [
        {
          "output_type": "execute_result",
          "data": {
            "text/plain": [
              "[5, 4, 3, 2, 1]"
            ]
          },
          "metadata": {},
          "execution_count": 29
        }
      ]
    },
    {
      "cell_type": "code",
      "source": [
        "# Sample string\n",
        "my_string = \"abcdefg\"\n",
        "\n",
        "# Extract every second character using slicing\n",
        "every_second_char = my_string[::2]\n",
        "\n",
        "print(every_second_char)\n"
      ],
      "metadata": {
        "colab": {
          "base_uri": "https://localhost:8080/"
        },
        "id": "leA3_qDaddis",
        "outputId": "84f2cd58-8dcb-410e-fd87-cef4e0d71e0f"
      },
      "execution_count": null,
      "outputs": [
        {
          "output_type": "stream",
          "name": "stdout",
          "text": [
            "aceg\n"
          ]
        }
      ]
    },
    {
      "cell_type": "code",
      "source": [
        "#Extract the middle 3 elements from a list with an odd number of elements.\n",
        "# Sample list with an odd number of elements\n",
        "my_list = [10, 20, 30, 40, 50, 60, 70]\n",
        "\n",
        "\n",
        "middle_index = len(my_list) // 2\n",
        "\n",
        "# Extract the middle 3 elements\n",
        "middle_three_elements = my_list[middle_index - 1 : middle_index + 2]\n",
        "\n",
        "print(middle_three_elements)\n"
      ],
      "metadata": {
        "colab": {
          "base_uri": "https://localhost:8080/"
        },
        "id": "lD83Dn8GdeQR",
        "outputId": "a89538cf-bed9-434e-d326-dd247de8696b"
      },
      "execution_count": null,
      "outputs": [
        {
          "output_type": "stream",
          "name": "stdout",
          "text": [
            "[30, 40, 50]\n"
          ]
        }
      ]
    },
    {
      "cell_type": "code",
      "source": [
        "#Split a list into two halves using slicing\n",
        "\n",
        "# Sample list\n",
        "my_list = [10, 20, 30, 40, 50, 60]\n",
        "\n",
        "# Calculate the middle index\n",
        "middle_index = len(my_list) // 2\n",
        "\n",
        "# Split the list into two halves\n",
        "first_half = my_list[:middle_index]\n",
        "second_half = my_list[middle_index:]\n",
        "\n",
        "print(\"First Half:\", first_half)\n",
        "print(\"Second Half:\", second_half)\n"
      ],
      "metadata": {
        "colab": {
          "base_uri": "https://localhost:8080/"
        },
        "id": "46KAU0uaeCAS",
        "outputId": "c2f1aaad-b570-42d9-b12d-7f8f57ccd30b"
      },
      "execution_count": null,
      "outputs": [
        {
          "output_type": "stream",
          "name": "stdout",
          "text": [
            "First Half: [10, 20, 30]\n",
            "Second Half: [40, 50, 60]\n"
          ]
        }
      ]
    },
    {
      "cell_type": "code",
      "source": [
        "#Slice a NumPy array to extract a sub-matrix.\n",
        "import numpy as np\n",
        "\n",
        "# Create a 4x4 NumPy array\n",
        "matrix = np.array([[1, 2, 3, 4],\n",
        "                   [5, 6, 7, 8],\n",
        "                   [9, 10, 11, 12],\n",
        "                   [13, 14, 15, 16]])\n",
        "\n",
        "# Extract a sub-matrix (e.g., rows 1 to 2 and columns 2 to 3)\n",
        "sub_matrix = matrix[1:3, 2:4]\n",
        "\n",
        "print(\"Original Matrix:\")\n",
        "print(matrix)\n",
        "\n",
        "print(\"\\nExtracted Sub-Matrix:\")\n",
        "print(sub_matrix)\n",
        "\n"
      ],
      "metadata": {
        "id": "NIp16Nhddd18",
        "colab": {
          "base_uri": "https://localhost:8080/"
        },
        "outputId": "a2eddd1a-def9-4476-e02a-65a279f71ab4"
      },
      "execution_count": null,
      "outputs": [
        {
          "output_type": "stream",
          "name": "stdout",
          "text": [
            "Original Matrix:\n",
            "[[ 1  2  3  4]\n",
            " [ 5  6  7  8]\n",
            " [ 9 10 11 12]\n",
            " [13 14 15 16]]\n",
            "\n",
            "Extracted Sub-Matrix:\n",
            "[[ 7  8]\n",
            " [11 12]]\n"
          ]
        }
      ]
    },
    {
      "cell_type": "code",
      "source": [
        "# Define the list\n",
        "lst = [1, 2, 3, 4, 5]\n",
        "\n",
        "# Specify the number of positions to rotate\n",
        "n = 3  # Rotate by 3 positions\n",
        "\n",
        "# Rotate the list\n",
        "rotated_list = lst[-n:] + lst[:-n]\n",
        "\n",
        "print(\"Original List:\", lst)\n",
        "print(\"Rotated List:\", rotated_list)\n"
      ],
      "metadata": {
        "colab": {
          "base_uri": "https://localhost:8080/"
        },
        "id": "GP3HtZm7h8Su",
        "outputId": "6a4826e3-7fa5-4dd3-e845-c28b7ef0d5b4"
      },
      "execution_count": null,
      "outputs": [
        {
          "output_type": "stream",
          "name": "stdout",
          "text": [
            "Original List: [1, 2, 3, 4, 5]\n",
            "Rotated List: [3, 4, 5, 1, 2]\n"
          ]
        }
      ]
    },
    {
      "cell_type": "code",
      "source": [],
      "metadata": {
        "id": "HlUE-MlceOsy"
      },
      "execution_count": null,
      "outputs": []
    },
    {
      "cell_type": "code",
      "source": [],
      "metadata": {
        "id": "xCCbPWQJePC6"
      },
      "execution_count": null,
      "outputs": []
    }
  ]
}