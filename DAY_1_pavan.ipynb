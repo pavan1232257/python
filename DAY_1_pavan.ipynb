{
  "nbformat": 4,
  "nbformat_minor": 0,
  "metadata": {
    "colab": {
      "provenance": []
    },
    "kernelspec": {
      "name": "python3",
      "display_name": "Python 3"
    },
    "language_info": {
      "name": "python"
    }
  },
  "cells": [
    {
      "cell_type": "code",
      "source": [
        "#1 Display float number with 2 decimal places using print()\n",
        "\n",
        "f = 45.8947\n",
        "\n",
        "s = \"{:.2f}\".format(f)\n",
        "print(s)"
      ],
      "metadata": {
        "colab": {
          "base_uri": "https://localhost:8080/"
        },
        "id": "JYjV54cnl_uq",
        "outputId": "91e3bc7f-8e75-417c-bb71-a11abcc3ae8f"
      },
      "execution_count": null,
      "outputs": [
        {
          "output_type": "stream",
          "name": "stdout",
          "text": [
            "45.89\n"
          ]
        }
      ]
    },
    {
      "cell_type": "code",
      "source": [
        "#2 you have the following data. totalMoney = 1000\n",
        "#quantity = 3\n",
        "#price = 450\n",
        "#display above data using string.format() method\n",
        "#I have 1000 dollars so I can buy 3 football for 450.00 dollars.\n",
        "totalMoney = 1000\n",
        "totalMoney = \"{:.2f}\".format(totalMoney)\n",
        "quantity = 3\n",
        "price = 450\n",
        "#price = \"{:.2f}\".format(price)\n",
        "print(f\"I have {totalMoney} dollars so I can buy {quantity} football for {price:.2f} dollars.\")\n",
        "\n"
      ],
      "metadata": {
        "colab": {
          "base_uri": "https://localhost:8080/"
        },
        "id": "OZSqHIOnmADg",
        "outputId": "8d65df0c-d188-48b0-9194-12b3748f31ee"
      },
      "execution_count": null,
      "outputs": [
        {
          "output_type": "stream",
          "name": "stdout",
          "text": [
            "I have 1000.00 dollars so I can buy 3 football for 450.00 dollars.\n"
          ]
        }
      ]
    },
    {
      "cell_type": "code",
      "source": [
        "# 3 sum of n numbers.\n",
        "n=3\n",
        "sum_1 = (n*(n+1))//2\n",
        "print(sum_1)"
      ],
      "metadata": {
        "id": "-aTBrnwwmAS3",
        "colab": {
          "base_uri": "https://localhost:8080/"
        },
        "outputId": "dfedb4b1-cf75-4c8c-b1b6-d643ef22949a"
      },
      "execution_count": null,
      "outputs": [
        {
          "output_type": "stream",
          "name": "stdout",
          "text": [
            "6\n"
          ]
        }
      ]
    },
    {
      "cell_type": "code",
      "source": [
        "#write a program to find volume and surface area of a cylinder\n",
        "pi = 22/7\n",
        "heaight = float(input(\"Enter the height of the cylinder: \"))\n",
        "radius = float(input(\"Enter the radius of the cylinder: \"))\n",
        "#volume = pi*r*r*h\n",
        "#surface_area =2(pirh(r+h)) or (2pir*rh)+(2pirh)\n",
        "volume = pi*radius*radius*heaight\n",
        "surface_area = (2*pi*radius*heaight) + (2*pi*radius**2)\n",
        "print(f\"the volume of a cylineder is {volume:.2f} units\")\n",
        "print(f\"the surface area of a cylinder is {surface_area:.2f} sqaure units\")"
      ],
      "metadata": {
        "id": "PF1gs3CfevuA",
        "colab": {
          "base_uri": "https://localhost:8080/"
        },
        "outputId": "2d420dbc-520a-4fc2-f01d-9359ae934698"
      },
      "execution_count": null,
      "outputs": [
        {
          "output_type": "stream",
          "name": "stdout",
          "text": [
            "Enter the height of the cylinder: 4\n",
            "Enter the radius of the cylinder: 6\n",
            "the volume of a cylineder is 452.57 units\n",
            "the surface area of a cylinder is 377.14 sqaure units\n"
          ]
        }
      ]
    },
    {
      "cell_type": "code",
      "source": [
        "#Write a Python program to calculate arc length of an angle.\n",
        "from math import pi\n",
        "radius = float(input(\"Enter the radius of the circle: \"))\n",
        "angle = float(input(\"Enter the angle in degrees: \"))\n",
        "ArcLength = ( 2 * pi * radius ) * ( angle / 360 )\n",
        "print(\"{:.2f}\".format(ArcLength))\n",
        "\n"
      ],
      "metadata": {
        "id": "DYQNJ_z0-qPg",
        "colab": {
          "base_uri": "https://localhost:8080/"
        },
        "outputId": "2d7be2a4-3074-4bf3-e6a9-52f562e3f018"
      },
      "execution_count": null,
      "outputs": [
        {
          "output_type": "stream",
          "name": "stdout",
          "text": [
            "Enter the radius of the circle: 35\n",
            "Enter the angle in degrees: 90\n",
            "54.98\n"
          ]
        }
      ]
    },
    {
      "cell_type": "code",
      "source": [
        "#swapping of two numbers. (Using Temp variable, without using Temp Variable )\n",
        "#using temp variable\n",
        "p = 10\n",
        "b= 6\n",
        "temp= p\n",
        "p =b\n",
        "b =temp\n",
        "print(p,b)\n",
        "#without using temp varible\n",
        "\n",
        "p,b =b,p\n",
        "print(p,b )\n"
      ],
      "metadata": {
        "colab": {
          "base_uri": "https://localhost:8080/"
        },
        "id": "n9qe-erBV6oI",
        "outputId": "eeb64f8b-62cb-4cfb-d9e4-11ff980e5ec1"
      },
      "execution_count": null,
      "outputs": [
        {
          "output_type": "stream",
          "name": "stdout",
          "text": [
            "6 10\n",
            "10 6\n"
          ]
        }
      ]
    },
    {
      "cell_type": "code",
      "source": [
        "#program to check whether the given number is greater than 50\n",
        "value = int(input(\"enter the value :\"))\n",
        "if value >=50:\n",
        "  print(f\"{value} is greater than 50\")\n",
        "else:\n",
        "  print(f\"{value} is less than 50\")"
      ],
      "metadata": {
        "colab": {
          "base_uri": "https://localhost:8080/"
        },
        "id": "MYkSm5stcD08",
        "outputId": "d4860e8e-c502-48a7-c1b6-1456af907925"
      },
      "execution_count": null,
      "outputs": [
        {
          "output_type": "stream",
          "name": "stdout",
          "text": [
            "enter the value :54\n",
            "54 is greater than 50\n"
          ]
        }
      ]
    },
    {
      "cell_type": "code",
      "source": [
        "#program to find the given number is even or odd\n",
        "v = int(input(\"enter the value :\"))\n",
        "if value%2==0:\n",
        "  print(f\"{v} is even\")\n",
        "else:\n",
        "  print(f\"{v} is odd\")"
      ],
      "metadata": {
        "colab": {
          "base_uri": "https://localhost:8080/"
        },
        "id": "jNvJY3UmcjtQ",
        "outputId": "416e016b-2d1c-41e5-81db-ad632dade7ee"
      },
      "execution_count": null,
      "outputs": [
        {
          "output_type": "stream",
          "name": "stdout",
          "text": [
            "enter the value :78\n",
            "78 is even\n"
          ]
        }
      ]
    },
    {
      "cell_type": "code",
      "source": [
        "#program to find the given number is positive or negative\n",
        "\n",
        "v = int(input(\"enter the value :\"))\n",
        "if v >= 0:\n",
        "  print(\"the value is positive\")\n",
        "else:\n",
        "  print(\"the value is negative\")"
      ],
      "metadata": {
        "colab": {
          "base_uri": "https://localhost:8080/"
        },
        "id": "I2B7MaiMcEV_",
        "outputId": "70bed477-94a8-473f-d5fc-591e30d0e09e"
      },
      "execution_count": null,
      "outputs": [
        {
          "output_type": "stream",
          "name": "stdout",
          "text": [
            "enter the value :56\n",
            "the value is positive\n"
          ]
        }
      ]
    },
    {
      "cell_type": "code",
      "source": [
        "#program to find greatest of two numbers using if-else\n",
        "\n",
        "\n",
        "a = int(input(\"enter the value of a :\"))\n",
        "b = int(input(\"enter the value of b :\"))\n",
        "if a>b:\n",
        "  print(f\"{a} is greater than {b}\")"
      ],
      "metadata": {
        "colab": {
          "base_uri": "https://localhost:8080/"
        },
        "id": "FGybnMcCd1Ln",
        "outputId": "74818e50-7f2e-4ec2-b180-02266a63fb0b"
      },
      "execution_count": null,
      "outputs": [
        {
          "output_type": "stream",
          "name": "stdout",
          "text": [
            "enter the value of a :67\n",
            "enter the value of b :45\n",
            "67 is greater than 45\n"
          ]
        }
      ]
    },
    {
      "cell_type": "code",
      "source": [
        "#program to find greatest of three numbers using elif\n",
        "p = int(input(\"enter the value:\"))\n",
        "b =int(input(\"enter the value:\"))\n",
        "c =int(input(\"enter the value :\"))\n",
        "if p>b and p>c:\n",
        "  print(f\"{p} is greatest\")\n",
        "elif b>p and b>c:\n",
        "  print(f\"{b} is greatest\" )\n",
        "elif c>p and c>b:\n",
        "  print(f\"{c} is greatest\")\n"
      ],
      "metadata": {
        "colab": {
          "base_uri": "https://localhost:8080/"
        },
        "id": "coHFVtPLeSoh",
        "outputId": "135d8666-75a1-468b-b057-61d51d75c07c"
      },
      "execution_count": null,
      "outputs": [
        {
          "output_type": "stream",
          "name": "stdout",
          "text": [
            "enter the value:90\n",
            "enter the value:98\n",
            "enter the value :65\n",
            "98 is greatest\n"
          ]
        }
      ]
    },
    {
      "cell_type": "code",
      "source": [
        "#program to find student grade by giving input marks using elif. A-->90+, B-->\n",
        "#71-90, C--> 50-70, F--> less than 50\n",
        "marks =int(input(\"Enter the values :\"))\n",
        "if marks >= 90:\n",
        "  print(\"A Grade\")\n",
        "\n",
        "elif marks >= 71 and marks <= 90:\n",
        "  print(\"B Grade\")\n",
        "\n",
        "elif marks >= 50 and marks <= 70:\n",
        "  print(\"C Grade\")\n",
        "\n",
        "else:\n",
        "  print(\"F Grade\")"
      ],
      "metadata": {
        "colab": {
          "base_uri": "https://localhost:8080/"
        },
        "id": "hZc5meE7f2Mz",
        "outputId": "fc603bec-1472-4c74-dd63-0c8ee6d1976f"
      },
      "execution_count": null,
      "outputs": [
        {
          "output_type": "stream",
          "name": "stdout",
          "text": [
            "Enter the values :56\n",
            "C Grade\n"
          ]
        }
      ]
    },
    {
      "cell_type": "code",
      "source": [
        "#program to input username and password and verify it. username: RayTech,\n",
        "#password: 12345\n",
        "\n",
        "username = input(\"Please Enter the username :\")\n",
        "password = input(\"please Enter the password:\")\n",
        "if username == \"RayTech\" and password == \"12345\":\n",
        "  print(\"Login Successful\")\n",
        "else:\n",
        "  print(\"Login Failed\")"
      ],
      "metadata": {
        "colab": {
          "base_uri": "https://localhost:8080/"
        },
        "id": "DhH3cpYFg6u_",
        "outputId": "d3fdd9ad-ff69-4ea5-baa9-13cff5be9186"
      },
      "execution_count": null,
      "outputs": [
        {
          "output_type": "stream",
          "name": "stdout",
          "text": [
            "Please Enter the username :RayTech\n",
            "please Enter the password:12345\n",
            "Login Successful\n"
          ]
        }
      ]
    },
    {
      "cell_type": "code",
      "source": [
        "#14 program to find the given two numbers are equal or not equal and printing greater\n",
        "a = int(input(\"Please enter the value :\"))\n",
        "b =int(input(\"please enter the value :\"))\n",
        "if a ==b:\n",
        "\n",
        "  print(\"the given two numbers are equal\")\n",
        "else:\n",
        "  print(\"the given two numbers are not equal\")\n",
        "  if a > b:\n",
        "    print(a , \" is greater value\")\n",
        "  else:\n",
        "\n",
        "        print(b, \"is greater value\")"
      ],
      "metadata": {
        "id": "AXdrzJkChxzt",
        "colab": {
          "base_uri": "https://localhost:8080/"
        },
        "outputId": "1f88d31f-5710-403b-f2d3-356cbbbbf569"
      },
      "execution_count": null,
      "outputs": [
        {
          "output_type": "stream",
          "name": "stdout",
          "text": [
            "Please enter the value :89\n",
            "please enter the value :90\n",
            "the given two numbers are not equal\n",
            "90 is greater value\n"
          ]
        }
      ]
    },
    {
      "cell_type": "code",
      "source": [
        "from ast import Num\n",
        "#program to find greatest of three numbers using multiple if\n",
        "\n",
        "Num= int(input(\"Enter the value :\"))\n",
        "Num1=int(input(\"Enter the value:\"))\n",
        "num2=int(input(\"Enter the value:\"))\n",
        "if Num > Num1 and Num > num2:\n",
        "  print(f\"{Num} is greater\")\n",
        "  if Num1 > Num and Num1 > num2:\n",
        "    print(f\"{Num1} is greater\")\n",
        "  else:\n",
        "    print(f\"{num2} is greater\")"
      ],
      "metadata": {
        "id": "xkQkXn4uhzGg",
        "colab": {
          "base_uri": "https://localhost:8080/"
        },
        "outputId": "6929eb91-5b4d-44c6-e0a6-222a8f771419"
      },
      "execution_count": null,
      "outputs": [
        {
          "name": "stdout",
          "output_type": "stream",
          "text": [
            "Enter the value :89\n",
            "Enter the value:90\n",
            "Enter the value:64\n"
          ]
        }
      ]
    },
    {
      "cell_type": "code",
      "source": [
        "#compute gross salary basic is less than 10000 then da is 80% and hra is 25% of basic\n",
        "\n",
        "basic_salary = float(input(\"ENTER THE BASIC SALARY :\"))\n",
        "da = 0.80*basic_salary\n",
        "hra = 0.25*basic_salary\n",
        "print(da)\n"
      ],
      "metadata": {
        "id": "HdJOqmmxReCc",
        "colab": {
          "base_uri": "https://localhost:8080/"
        },
        "outputId": "0a4509eb-fb43-4389-ffbc-f6bb00a1b25f"
      },
      "execution_count": null,
      "outputs": [
        {
          "output_type": "stream",
          "name": "stdout",
          "text": [
            "ENTER THE BASIC SALARY :100\n",
            "80.0\n"
          ]
        }
      ]
    },
    {
      "cell_type": "code",
      "source": [
        "#basic is less than 20000 then da is 90% and hra is 25% of basi\n",
        "\n",
        "basic_salary = float(input(\"ENTER THE BASIC SALARY :\"))\n",
        "da = 0.90*basic_salary\n",
        "hra = 0.25*basic_salary\n",
        "print(da)"
      ],
      "metadata": {
        "id": "zd9JK6bZReei",
        "colab": {
          "base_uri": "https://localhost:8080/"
        },
        "outputId": "5b49109b-b1cc-4364-c811-00fc6e04e074"
      },
      "execution_count": null,
      "outputs": [
        {
          "output_type": "stream",
          "name": "stdout",
          "text": [
            "ENTER THE BASIC SALARY :15000\n",
            "13500.0\n"
          ]
        }
      ]
    },
    {
      "cell_type": "code",
      "source": [
        "#otherwise da is 95% hra is 30% of basic##\n",
        "basic_salary = float(input(\"Enter the basic_salary :\"))\n",
        "da = 0.95*basic_salary\n",
        "hra = 0.30*basic_salary\n",
        "total_salary = basic_salary+da+hra\n",
        "print(f\"total_salary of basic+da +hra :{total_salary}\")\n",
        "print(f\"DA :{da}\")\n"
      ],
      "metadata": {
        "colab": {
          "base_uri": "https://localhost:8080/"
        },
        "id": "XpGqWyQd8F8c",
        "outputId": "ed64bb71-4fb7-4108-fd40-3412ad4f96b6"
      },
      "execution_count": null,
      "outputs": [
        {
          "output_type": "stream",
          "name": "stdout",
          "text": [
            "Enter the basic_salary :15000\n",
            "total_salary of basic+da +hra :33750.0\n",
            "DA :14250.0\n"
          ]
        }
      ]
    },
    {
      "cell_type": "code",
      "source": [
        "# FOR_LOOP, RANGE ( After While Loop Completes -- solve same questions using\n",
        "# While Loop )\n",
        "\n",
        "basic_salary = float(input(\"Enter the basic salary: \"))\n",
        "while basic_salary <= 0:\n",
        "    try:\n",
        "        basic_salary = float(input(\"Enter the basic salary (positive number): \"))\n",
        "        if basic_salary <= 0:\n",
        "            print(\"Please enter a positive number for the basic salary.\")\n",
        "    except ValueError:\n",
        "        print(\"Invalid input. Please enter a valid number.\")\n",
        "\n",
        "\n",
        "for _ in range(1):\n",
        "\n",
        "\n",
        "print(f\"DA (95% of Basic): {da}\")\n",
        "print(f\"HRA (30% of Basic): {hra}\")\n",
        "print(f\"Total Salary (Basic + DA + HRA): {total_salary}\")\n"
      ],
      "metadata": {
        "colab": {
          "base_uri": "https://localhost:8080/"
        },
        "id": "JxQhUIek-r5W",
        "outputId": "49062626-94b3-4172-ee2a-01252a820b61"
      },
      "execution_count": null,
      "outputs": [
        {
          "output_type": "stream",
          "name": "stdout",
          "text": [
            "Enter the basic salary: 5683\n",
            "DA (95% of Basic): 14250.0\n",
            "HRA (30% of Basic): 4500.0\n",
            "Total Salary (Basic + DA + HRA): total_salary : 24433.0\n"
          ]
        }
      ]
    },
    {
      "cell_type": "code",
      "source": [
        "#printing 10 to 15 #printing 50 to 41\n",
        "va=[]\n",
        "re_va=[]\n",
        "for _ in range(10, 16):\n",
        "  va.append(_)\n",
        "print(f\"the value of 10 to 15 :{va}\")\n",
        "\n",
        "for a in range(50 , 42 , -1):\n",
        "  re_va.append(a)\n",
        "\n",
        "print(f\"the values of 50 to 41  :{re_va}\")\n"
      ],
      "metadata": {
        "colab": {
          "base_uri": "https://localhost:8080/"
        },
        "id": "N6x5sw4cB0_E",
        "outputId": "f978d112-450c-4f42-f03b-f235bf81ba54"
      },
      "execution_count": null,
      "outputs": [
        {
          "output_type": "stream",
          "name": "stdout",
          "text": [
            "the value of 10 to 15 :[10, 11, 12, 13, 14, 15]\n",
            "the values of 50 to 41  :[50, 49, 48, 47, 46, 45, 44, 43]\n"
          ]
        }
      ]
    },
    {
      "cell_type": "code",
      "source": [
        "#printing 3 multiples between 20 to 45\n",
        "li=[]\n",
        "for a in range(20,46, 3):\n",
        "  li.append(a)\n",
        "\n",
        "print(f\"normal_code {li}\")\n",
        "\n",
        "\n",
        "print(f\"simple way {[a for a in range(20, 46, 3)]}\")\n",
        "\n"
      ],
      "metadata": {
        "colab": {
          "base_uri": "https://localhost:8080/"
        },
        "id": "6MkihWZGDRMd",
        "outputId": "28708295-0b33-43a8-9ad6-7a364f082a8a"
      },
      "execution_count": null,
      "outputs": [
        {
          "output_type": "stream",
          "name": "stdout",
          "text": [
            "normal_code [20, 23, 26, 29, 32, 35, 38, 41, 44]\n",
            "simple way [20, 23, 26, 29, 32, 35, 38, 41, 44]\n",
            "[20, 23, 26, 29, 32, 35, 38, 41, 44]\n"
          ]
        }
      ]
    },
    {
      "cell_type": "code",
      "source": [
        "#print odd numbers between 1 to 10\n",
        "odd_numbers =[]\n",
        "for a in range(1,11):\n",
        "  if a%2 != 0:\n",
        "    odd_numbers.append(a)\n",
        "print(odd_numbers)\n",
        "\n",
        "[b for b in range(1,11) if b%2 != 0]\n"
      ],
      "metadata": {
        "colab": {
          "base_uri": "https://localhost:8080/"
        },
        "id": "Wj_Dd3OwF0S0",
        "outputId": "c92089de-a674-4b8b-cae0-4abe7a3ebdf7"
      },
      "execution_count": null,
      "outputs": [
        {
          "output_type": "stream",
          "name": "stdout",
          "text": [
            "[1, 3, 5, 7, 9]\n"
          ]
        },
        {
          "output_type": "execute_result",
          "data": {
            "text/plain": [
              "[1, 3, 5, 7, 9]"
            ]
          },
          "metadata": {},
          "execution_count": 32
        }
      ]
    },
    {
      "cell_type": "code",
      "source": [
        "#sum of n numbers.\n",
        "#if n =6 the sum of nth numbers is (1+2+3+4+5+6)\n",
        "#the formula of sum of nth numbers = n(n+1)/2\n",
        "def sum_v(n):\n",
        "  sum_n_n = n*(n+1)//2\n",
        "  return sum_n_n\n",
        "n_1 = int(input(\"Enter the value :\"))\n",
        "\n",
        "print(f\"sum nth number is :{sum_v(n_1)}\")"
      ],
      "metadata": {
        "colab": {
          "base_uri": "https://localhost:8080/"
        },
        "id": "-CHgy2J2HYz9",
        "outputId": "7f1cc60c-c520-4fd0-e316-20b2fc9d7bc0"
      },
      "execution_count": null,
      "outputs": [
        {
          "output_type": "stream",
          "name": "stdout",
          "text": [
            "Enter the value :5\n",
            "sum nth number is :15\n"
          ]
        }
      ]
    },
    {
      "cell_type": "code",
      "source": [
        "#program to check whether a number is prime or not"
      ],
      "metadata": {
        "id": "raVH6zTRHB9d"
      },
      "execution_count": null,
      "outputs": []
    },
    {
      "cell_type": "code",
      "source": [
        "print(10%2 != 0)"
      ],
      "metadata": {
        "colab": {
          "base_uri": "https://localhost:8080/"
        },
        "id": "iQFNpCAFGO5-",
        "outputId": "8c1ebdf1-251b-4db3-e591-814dbf0efe64"
      },
      "execution_count": null,
      "outputs": [
        {
          "output_type": "stream",
          "name": "stdout",
          "text": [
            "False\n"
          ]
        }
      ]
    },
    {
      "cell_type": "code",
      "source": [
        "x = 10\n",
        "print(id(x))\n",
        "id(repr(x))  # This would print the string '10' (same as repr(10))\n"
      ],
      "metadata": {
        "colab": {
          "base_uri": "https://localhost:8080/"
        },
        "id": "sWnEKVQAJUJM",
        "outputId": "eda3d3e7-1716-49c8-8d77-b2e72b19a434"
      },
      "execution_count": null,
      "outputs": [
        {
          "output_type": "stream",
          "name": "stdout",
          "text": [
            "135092239237648\n"
          ]
        },
        {
          "output_type": "execute_result",
          "data": {
            "text/plain": [
              "135090912834928"
            ]
          },
          "metadata": {},
          "execution_count": 37
        }
      ]
    },
    {
      "cell_type": "code",
      "source": [
        "#program to check whether a number is prime or not\n",
        "va=int(input(\"TO check whether a number is prime or not  :\"))\n",
        "factors =[]\n",
        "for a in range(1,va+1):\n",
        "  if va%a == 0:\n",
        "    factors.append(a)\n",
        "print(factors)\n",
        "if len(factors) == 2:\n",
        "  print(f\"{va} is a prime number\")\n",
        "else:\n",
        "  print(f\"{va} is not a prime number\")\n",
        "\n"
      ],
      "metadata": {
        "colab": {
          "base_uri": "https://localhost:8080/"
        },
        "id": "sxF_dzc1GQr5",
        "outputId": "b007eb9f-f91d-41ea-9850-903c7857ce13"
      },
      "execution_count": null,
      "outputs": [
        {
          "output_type": "stream",
          "name": "stdout",
          "text": [
            "TO check whether a number is prime or not  :13\n",
            "[1, 13]\n",
            "13 is a prime number\n"
          ]
        }
      ]
    },
    {
      "cell_type": "code",
      "source": [],
      "metadata": {
        "colab": {
          "base_uri": "https://localhost:8080/"
        },
        "id": "GvzCenQSQx-2",
        "outputId": "93ba1638-d966-4222-ded9-5e8563bc096d"
      },
      "execution_count": null,
      "outputs": [
        {
          "output_type": "stream",
          "name": "stdout",
          "text": [
            "Enter a number: 3\n",
            "3 is an odd number.\n"
          ]
        }
      ]
    },
    {
      "cell_type": "code",
      "source": [
        "#program to find prime numbers between 1 to N\n",
        "def is_prime(n):\n",
        "    if n <= 1:\n",
        "        return False\n",
        "    for i in range(2, n):\n",
        "        if n % i == 0:  # If divisible by any number, it's not prime\n",
        "            return False\n",
        "    return True\n",
        "\n",
        "# Input number N\n",
        "N = int(input(\"Enter a number N to find all prime numbers up to N: \"))\n",
        "\n",
        "# Find and print all prime numbers between 1 and N\n",
        "print(f\"Prime numbers between 1 and {N} are:\")\n",
        "for num in range(2, N + 1):\n",
        "    if is_prime(num):\n",
        "        print(num, end=\" \")\n",
        "\n",
        "\n",
        "\n",
        "\n"
      ],
      "metadata": {
        "colab": {
          "base_uri": "https://localhost:8080/"
        },
        "id": "_9oEwlDoRuT_",
        "outputId": "fae1c85a-1aa7-496e-eb90-317fb1ad4e32"
      },
      "execution_count": null,
      "outputs": [
        {
          "output_type": "stream",
          "name": "stdout",
          "text": [
            "Enter a number N to find all prime numbers up to N: 7\n",
            "Prime numbers between 1 and 7 are:\n",
            "2 3 5 7 "
          ]
        }
      ]
    },
    {
      "cell_type": "code",
      "source": [
        "#Multiplication table (4 Table)\n",
        "for i in range(1, 11):\n",
        "  print(f\"4 x {i} = {i*4}\")"
      ],
      "metadata": {
        "colab": {
          "base_uri": "https://localhost:8080/"
        },
        "id": "3uloxRrUR9xj",
        "outputId": "f8c034a2-068c-4f82-fae8-9ad5a367e98f"
      },
      "execution_count": null,
      "outputs": [
        {
          "output_type": "stream",
          "name": "stdout",
          "text": [
            "4 x 1 = 4\n",
            "4 x 2 = 8\n",
            "4 x 3 = 12\n",
            "4 x 4 = 16\n",
            "4 x 5 = 20\n",
            "4 x 6 = 24\n",
            "4 x 7 = 28\n",
            "4 x 8 = 32\n",
            "4 x 9 = 36\n",
            "4 x 10 = 40\n"
          ]
        }
      ]
    },
    {
      "cell_type": "code",
      "source": [
        "#print below pattern. (input: 5)\n",
        "# 1\n",
        "# 22\n",
        "# 333\n",
        "# 4444\n",
        "# 55555\n",
        "# Input: number of lines\n",
        "n = int(input(\"Enter a number: \"))\n",
        "\n",
        "# Print the pattern\n",
        "for i in range(1, n + 1):\n",
        "    print(str(i) * i)\n"
      ],
      "metadata": {
        "colab": {
          "base_uri": "https://localhost:8080/"
        },
        "id": "Sxmuc4HXf_mE",
        "outputId": "3c4ee861-b9b8-4969-ca9e-659677110cf8"
      },
      "execution_count": null,
      "outputs": [
        {
          "output_type": "stream",
          "name": "stdout",
          "text": [
            "Enter a number: 5\n",
            "1\n",
            "22\n",
            "333\n",
            "4444\n",
            "55555\n"
          ]
        }
      ]
    },
    {
      "cell_type": "code",
      "source": [
        "#print below pattern. (input: 5)\n",
        "# 55555\n",
        "# 4444\n",
        "# 333\n",
        "# 22\n",
        "# 1\n",
        "for i in range(1 , n+1 , -1):\n",
        "  print(str(i)*i)"
      ],
      "metadata": {
        "id": "5eDY0r0oRRGO"
      },
      "execution_count": null,
      "outputs": []
    },
    {
      "cell_type": "code",
      "source": [
        "#print below pattern. (input: 5)\n",
        "# A\n",
        "\n",
        "# BC\n",
        "# DEF\n",
        "# GHIJ\n",
        "# KLMNO\n",
        "\n",
        "def print_pattern(n):\n",
        "    # Starting character\n",
        "    current_char = ord('A')\n",
        "\n",
        "    for i in range(1, n + 1):\n",
        "        # Print 'i' characters in row 'i'\n",
        "        for j in range(i):\n",
        "            # Print current character and increment\n",
        "            print(chr(current_char), end=\"\")\n",
        "            current_char += 1\n",
        "        # Move to the next line after each row\n",
        "        print()\n",
        "\n",
        "# Call the function with input value 5\n",
        "print_pattern(5)\n"
      ],
      "metadata": {
        "colab": {
          "base_uri": "https://localhost:8080/"
        },
        "id": "4KWJE6pIRUNP",
        "outputId": "97bc72b4-0f70-41b4-deae-f49d51da9042"
      },
      "execution_count": null,
      "outputs": [
        {
          "output_type": "stream",
          "name": "stdout",
          "text": [
            "A\n",
            "BC\n",
            "DEF\n",
            "GHIJ\n",
            "KLMNO\n"
          ]
        }
      ]
    },
    {
      "cell_type": "code",
      "source": [
        "#write a python program to find perfect squares between two given numbers\n",
        "import math\n",
        "\n",
        "a = int(input(\"ENTER THE FIRST VALUE :\"))\n",
        "b =int(input(\"Enter the second value :\"))\n",
        "start_sqrt = math.ceil(math.sqrt(a))\n",
        "end_sqrt = math.floor(math.sqrt(b))\n",
        "per_squares = []\n",
        "#write a python program to find perfect squares between two given numbers\n",
        "for i in range(start_sqrt, end_sqrt + 1):\n",
        "    # Calculate the square of the integer and append it to the list\n",
        "    per_squares.append(i * i)\n",
        "\n",
        "# Print the list of perfect squares\n",
        "print(\"Perfect squares between\", a, \"and\", b, \"are:\", per_squares)"
      ],
      "metadata": {
        "colab": {
          "base_uri": "https://localhost:8080/"
        },
        "id": "7CHjx_iWXaVr",
        "outputId": "610bca75-10c8-4bf2-fd38-35487a5173f7"
      },
      "execution_count": null,
      "outputs": [
        {
          "output_type": "stream",
          "name": "stdout",
          "text": [
            "ENTER THE FIRST VALUE :4\n",
            "Enter the second value :6\n",
            "Perfect squares between 4 and 6 are: [4]\n"
          ]
        }
      ]
    },
    {
      "cell_type": "code",
      "source": [
        "#armstrong number-sum of cubes of a number is equal to that number. 153 is\n",
        "#armstrong. Explaintion 1^3 + 5^3 + 3^3 =153\n",
        "def is_armstrong_number(n):\n",
        "    # Convert the number to string to get the digits\n",
        "    digits = str(n)\n",
        "\n",
        "    # Find the number of digits (length of the string)\n",
        "    num_digits = len(digits)\n",
        "\n",
        "    # Calculate the sum of each digit raised to the power of num_digits\n",
        "    sum_of_powers = sum(int(digit) ** num_digits for digit in digits)\n",
        "\n",
        "    # Check if the sum is equal to the original number\n",
        "    return sum_of_powers == n\n",
        "\n",
        "# Input from the user\n",
        "num = int(input(\"Enter a number to check if it's an Armstrong number: \"))\n",
        "\n",
        "# Check if the number is an Armstrong number\n",
        "if is_armstrong_number(num):\n",
        "    print(f\"{num} is an Armstrong number.\")\n",
        "else:\n",
        "    print(f\"{num} is not an Armstrong number.\")\n"
      ],
      "metadata": {
        "id": "NuC_CkJuRl-2",
        "colab": {
          "base_uri": "https://localhost:8080/"
        },
        "outputId": "d1ed4256-ad8d-4a85-f88f-83a26c0c61b8"
      },
      "execution_count": null,
      "outputs": [
        {
          "output_type": "stream",
          "name": "stdout",
          "text": [
            "Enter a number to check if it's an Armstrong number: 789\n",
            "789 is not an Armstrong number.\n"
          ]
        }
      ]
    },
    {
      "cell_type": "code",
      "source": [
        "#power of a number ( a^b using Loop )\n",
        "result =1\n",
        "a = int(input(\"Enter the base (a): \"))\n",
        "b = int(input(\"Enter the exponent (b): \"))\n",
        "for _ in range(b):\n",
        "  result *= a\n",
        "\n",
        "print(result)\n"
      ],
      "metadata": {
        "colab": {
          "base_uri": "https://localhost:8080/"
        },
        "id": "b9e_NK-He0Xr",
        "outputId": "4bc4c6ba-6032-42a6-9898-4795847f002c"
      },
      "execution_count": null,
      "outputs": [
        {
          "output_type": "stream",
          "name": "stdout",
          "text": [
            "Enter the base (a): 2\n",
            "Enter the exponent (b): 4\n",
            "16\n"
          ]
        }
      ]
    },
    {
      "cell_type": "code",
      "source": [
        "#first n terms of fibonacci series\n",
        "def fibonacci(n):\n",
        "\n",
        "    fib_sequence = []\n",
        "    a, b = 0, 1\n",
        "    for i in range(n):\n",
        "        fib_sequence.append(a)\n",
        "        a, b = b, a + b\n",
        "\n",
        "    return fib_sequence\n",
        "\n",
        "n = int(input(\"Enter the number of terms you want in the Fibonacci series: \"))\n",
        "\n",
        "\n",
        "fib_series = fibonacci(n)\n",
        "print(f\"The first {n} terms of the Fibonacci series are: {fib_series}\")\n"
      ],
      "metadata": {
        "id": "tqvq6-UEf9C4"
      },
      "execution_count": null,
      "outputs": []
    },
    {
      "cell_type": "code",
      "source": [
        "#perfect number sum of the factors should be equal to itself\n",
        "#6 ----1+2+3\n",
        "#28----1+2+4+7+14\n",
        "divisors=0\n",
        "n = int(input(\"ENTER THE FIRST VALUE :\"))\n",
        "for a in range(1,n):\n",
        "  if n % a == 0:\n",
        "    divisors += a\n",
        "if divisors == n:\n",
        "  print(f\"{n} is a perfect number\")\n",
        "else:\n",
        "  print(f\"{n} is not a perfect number\")\n",
        "\n"
      ],
      "metadata": {
        "colab": {
          "base_uri": "https://localhost:8080/"
        },
        "id": "qoeLTRdXgA59",
        "outputId": "17e3c16c-cfb8-4376-bb8c-90e86e2b613b"
      },
      "execution_count": null,
      "outputs": [
        {
          "output_type": "stream",
          "name": "stdout",
          "text": [
            "ENTER THE FIRST VALUE :6\n",
            "6 is a perfect number\n"
          ]
        }
      ]
    },
    {
      "cell_type": "code",
      "source": [
        "#program to print every character given by user seperated by comma(,).\n",
        "char =input(\"Enter the character :\")\n",
        "for a in char:\n",
        "  print(a, end=\",\")\n",
        "\n",
        "r = \", \".join(char)\n",
        "print(r)"
      ],
      "metadata": {
        "colab": {
          "base_uri": "https://localhost:8080/"
        },
        "id": "VL6yxnvpik0y",
        "outputId": "b7c39f41-44ff-402b-e0d2-3b4abd86e4fa"
      },
      "execution_count": null,
      "outputs": [
        {
          "output_type": "stream",
          "name": "stdout",
          "text": [
            "Enter the character :pavan\n",
            "p,\n",
            "a,\n",
            "v,\n",
            "a,\n",
            "n,\n",
            "p, a, v, a, n\n"
          ]
        }
      ]
    },
    {
      "cell_type": "code",
      "source": [
        "#program to find the length of name without using len function\n",
        "name = input(\"Enter the name :\")\n",
        "count = 0\n",
        "for a in name:\n",
        "  count += 1\n",
        "print(count)\n",
        "#"
      ],
      "metadata": {
        "colab": {
          "base_uri": "https://localhost:8080/"
        },
        "id": "UfCIE98cjQTD",
        "outputId": "27e87120-c9bc-4c0b-8360-efc4f566b417"
      },
      "execution_count": null,
      "outputs": [
        {
          "output_type": "stream",
          "name": "stdout",
          "text": [
            "Enter the name :pavan\n",
            "5\n"
          ]
        }
      ]
    },
    {
      "cell_type": "code",
      "source": [
        "#reverse of a string without string handling functions\n",
        "a = \"Ray tech\"\n",
        "def reverse_string(input_string):\n",
        "    reversed_string = \"\"\n",
        "    # Loop through the string in reverse order\n",
        "    for i in range(len(input_string) - 1, -1, -1):\n",
        "        reversed_string += input_string[i]\n",
        "    return reversed_string\n",
        "\n",
        "\n",
        "user_input = a\n",
        "\n",
        "\n",
        "print(\"Reversed string:\", reverse_string(user_input))\n",
        "\n"
      ],
      "metadata": {
        "colab": {
          "base_uri": "https://localhost:8080/"
        },
        "id": "ckV1Xn_Yjbc5",
        "outputId": "6c5ad568-73ab-4e90-96bb-e9afec1b203c"
      },
      "execution_count": null,
      "outputs": [
        {
          "output_type": "stream",
          "name": "stdout",
          "text": [
            "Reversed string: hcet yaR\n"
          ]
        }
      ]
    },
    {
      "cell_type": "code",
      "source": [
        "#program to check whether two strings are equal or not. if both are not equal\n",
        "#print larger string\n",
        "def compare_strings(str1, str2):\n",
        "\n",
        "    if str1 == str2:\n",
        "        print(\"Both strings are equal.\")\n",
        "    else:\n",
        "\n",
        "        if len(str1) > len(str2):\n",
        "            print(f\"The larger string is: {str1}\")\n",
        "        else:\n",
        "            print(f\"The larger string is: {str2}\")\n",
        "\n",
        "\n",
        "string1 = input(\"Enter the first string: \")\n",
        "string2 = input(\"Enter the second string: \")\n",
        "\n",
        "\n",
        "compare_strings(string1, string2)\n",
        "print(len(string1))\n",
        "print(len(string2))\n"
      ],
      "metadata": {
        "colab": {
          "base_uri": "https://localhost:8080/"
        },
        "id": "Cq18vd2JjcGS",
        "outputId": "826bff8f-d819-47aa-c33b-5da6ed8e2225"
      },
      "execution_count": null,
      "outputs": [
        {
          "output_type": "stream",
          "name": "stdout",
          "text": [
            "Enter the first string: pavan\n",
            "Enter the second string: bhaskar\n",
            "The larger string is: bhaskar\n",
            "5\n",
            "7\n"
          ]
        }
      ]
    },
    {
      "cell_type": "code",
      "source": [
        "#count the number of 'l's in a string.\n",
        "def count_l(string):\n",
        "    return string.count('l')\n",
        "\n",
        "# Input from the user\n",
        "user_input = input(\"Enter a string: \")\n",
        "\n",
        "# Call the function and print the count of 'l'\n",
        "print(\"The number of 'l's in the string is:\", count_l(user_input))\n"
      ],
      "metadata": {
        "colab": {
          "base_uri": "https://localhost:8080/"
        },
        "id": "RsTnMxHXnusP",
        "outputId": "be61e606-1d62-44d7-b0d8-e218228075bd"
      },
      "execution_count": null,
      "outputs": [
        {
          "output_type": "stream",
          "name": "stdout",
          "text": [
            "Enter a string: pavan\n",
            "The number of 'l's in the string is: 0\n"
          ]
        }
      ]
    },
    {
      "cell_type": "code",
      "source": [
        "a = 5  # binary: 0101\n",
        "b = 3  # binary: 0011\n",
        "result = a | b  # result: 7 (binary: 0111)\n",
        "result"
      ],
      "metadata": {
        "colab": {
          "base_uri": "https://localhost:8080/"
        },
        "id": "x_VIYJ11oRME",
        "outputId": "a69693d4-c643-49e0-b948-b0c802627847"
      },
      "execution_count": null,
      "outputs": [
        {
          "output_type": "execute_result",
          "data": {
            "text/plain": [
              "5"
            ]
          },
          "metadata": {},
          "execution_count": 32
        }
      ]
    },
    {
      "cell_type": "code",
      "source": [
        "def print_pattern(n):\n",
        "    current_number = 1  # Start from number 1\n",
        "    for i in range(1, n + 1):\n",
        "        for j in range(i):  # Print `i` numbers in the `i`-th row\n",
        "            print(current_number, end=\" \")\n",
        "            current_number += 1  # Increment the number\n",
        "        print()  # Move to the next line after each row\n",
        "\n",
        "# Call the function with 5 rows (as per the example)\n",
        "print_pattern(5)\n"
      ],
      "metadata": {
        "colab": {
          "base_uri": "https://localhost:8080/"
        },
        "id": "YL00ZGTfp-b4",
        "outputId": "9bfc8a8d-2368-4640-d8ec-453c41be66c5"
      },
      "execution_count": null,
      "outputs": [
        {
          "output_type": "stream",
          "name": "stdout",
          "text": [
            "1 \n",
            "2 3 \n",
            "4 5 6 \n",
            "7 8 9 10 \n",
            "11 12 13 14 15 \n"
          ]
        }
      ]
    },
    {
      "cell_type": "code",
      "source": [
        "# 1234567\n",
        "# 234567\n",
        "# 34567\n",
        "# 4567\n",
        "# 567\n",
        "# 67\n",
        "# 7\n",
        "def print_pattern(n):\n",
        "    for i in range(1, n + 1):\n",
        "        for j in range(i, n + 1):\n",
        "            print(j, end=\"\")  # Print the number without a space at the end\n",
        "        print()  # Move to the next line after each row\n",
        "\n",
        "# Call the function to print the pattern for n = 7\n",
        "print_pattern(7)\n"
      ],
      "metadata": {
        "colab": {
          "base_uri": "https://localhost:8080/"
        },
        "id": "bZcIHhcpqe__",
        "outputId": "52900cef-a90c-4553-e655-f31df42d9d2a"
      },
      "execution_count": null,
      "outputs": [
        {
          "output_type": "stream",
          "name": "stdout",
          "text": [
            "1234567\n",
            "234567\n",
            "34567\n",
            "4567\n",
            "567\n",
            "67\n",
            "7\n"
          ]
        }
      ]
    },
    {
      "cell_type": "code",
      "source": [
        "#1\n",
        "# 1 2\n",
        "# 1 2 3\n",
        "# 1 2 3 4\n",
        "# 1 2 3 4 5\n",
        "# 1 2 3 4 5 6\n",
        "# 1 2 3 4 5 6 7\n",
        "def print_pattern(n):\n",
        "    for i in range(1, n + 1):  # Outer loop for rows\n",
        "        for j in range(1, i + 1):  # Inner loop for printing numbers\n",
        "            print(j, end=\" \")  # Print number followed by a space\n",
        "        print()  # Move to the next line after each row\n",
        "\n",
        "# Call the function with n = 7\n",
        "print_pattern(7)\n"
      ],
      "metadata": {
        "colab": {
          "base_uri": "https://localhost:8080/"
        },
        "id": "GCPquXdrq-wA",
        "outputId": "d228eccd-96b6-44e8-e07d-a95d90a53eaa"
      },
      "execution_count": null,
      "outputs": [
        {
          "output_type": "stream",
          "name": "stdout",
          "text": [
            "1 \n",
            "1 2 \n",
            "1 2 3 \n",
            "1 2 3 4 \n",
            "1 2 3 4 5 \n",
            "1 2 3 4 5 6 \n",
            "1 2 3 4 5 6 7 \n"
          ]
        }
      ]
    },
    {
      "cell_type": "code",
      "source": [
        "# 1\n",
        "# 1 1\n",
        "# 1 2 1\n",
        "# 1 3 3 1\n",
        "# 1 4 6 4 1\n",
        "def print_pascals_triangle(n):\n",
        "    #\n",
        "    for i in range(n):\n",
        "        # Print spaces to center-align the triangle\n",
        "        print(\" \" * (n - i - 1), end=\"\")\n",
        "\n",
        "        # Inner loop for printing the numbers in the row\n",
        "        value = 1\n",
        "        for j in range(i + 1):\n",
        "            print(value, end=\" \")\n",
        "            value = value * (i - j) // (j + 1)  # Calculate the next binomial coefficient\n",
        "\n",
        "        print()  # Move to the next line after each row\n",
        "\n",
        "# Call the function with n = 5 to print the first 5 rows\n",
        "print_pascals_triangle(5)\n"
      ],
      "metadata": {
        "id": "nPdxhjZLrNQ7"
      },
      "execution_count": null,
      "outputs": []
    },
    {
      "cell_type": "code",
      "source": [
        "import itertools\n",
        "import random\n",
        "\n",
        "# List of books\n",
        "books = ['BOOK 1', 'BOOK 2', 'BOOK 3', 'BOOK 4']\n",
        "\n",
        "# Find all combinations of 2 books from the list of books\n",
        "combinations = list(itertools.combinations(books, 2))\n",
        "\n",
        "# Randomly choose one combination\n",
        "random_combination = random.choice(combinations)\n",
        "\n",
        "# Print the random combination\n",
        "print(random_combination)\n"
      ],
      "metadata": {
        "colab": {
          "base_uri": "https://localhost:8080/"
        },
        "id": "AVKMz5SBt-s5",
        "outputId": "d8945305-9c1d-4543-86d1-176d22daf5dd"
      },
      "execution_count": null,
      "outputs": [
        {
          "output_type": "stream",
          "name": "stdout",
          "text": [
            "('BOOK 3', 'BOOK 4')\n"
          ]
        }
      ]
    },
    {
      "cell_type": "code",
      "source": [
        "# 4 4 4 4 4 4 4\n",
        "# 4 3 3 3 3 3 4\n",
        "# 4 3 2 2 2 3 4\n",
        "# 4 3 2 1 2 3 4\n",
        "# 4 3 2 2 2 3 4\n",
        "# 4 3 3 3 3 3 4\n",
        "# 4 4 4 4 4 4 4\n",
        "\n",
        "def print_pattern(n):\n",
        "    # Iterate over the rows\n",
        "    for i in range(n):\n",
        "        # Iterate over the columns\n",
        "        for j in range(n):\n",
        "            # Calculate the value to print based on the minimum distance from the borders\n",
        "            value = 4 - min(i, j, n - i - 1, n - j - 1)\n",
        "            print(value, end=\" \")\n",
        "        print()  # Move to the next line after each row\n",
        "\n",
        "# Print the pattern for a 7x7 grid\n",
        "print_pattern(7)\n"
      ],
      "metadata": {
        "colab": {
          "base_uri": "https://localhost:8080/"
        },
        "id": "bum-J6dyvEOr",
        "outputId": "c0444948-97fa-4329-fc37-4c020d2c685e"
      },
      "execution_count": null,
      "outputs": [
        {
          "output_type": "stream",
          "name": "stdout",
          "text": [
            "4 4 4 4 4 4 4 \n",
            "4 3 3 3 3 3 4 \n",
            "4 3 2 2 2 3 4 \n",
            "4 3 2 1 2 3 4 \n",
            "4 3 2 2 2 3 4 \n",
            "4 3 3 3 3 3 4 \n",
            "4 4 4 4 4 4 4 \n"
          ]
        }
      ]
    },
    {
      "cell_type": "code",
      "source": [],
      "metadata": {
        "id": "-80kzHq7rNlf"
      },
      "execution_count": null,
      "outputs": []
    },
    {
      "cell_type": "code",
      "source": [],
      "metadata": {
        "id": "pjdr3zv_vEuf"
      },
      "execution_count": null,
      "outputs": []
    }
  ]
}