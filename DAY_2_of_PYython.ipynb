{
  "nbformat": 4,
  "nbformat_minor": 0,
  "metadata": {
    "colab": {
      "provenance": []
    },
    "kernelspec": {
      "name": "python3",
      "display_name": "Python 3"
    },
    "language_info": {
      "name": "python"
    }
  },
  "cells": [
    {
      "cell_type": "code",
      "execution_count": null,
      "metadata": {
        "id": "tO56vGfJC-tX",
        "colab": {
          "base_uri": "https://localhost:8080/"
        },
        "outputId": "2ddf23de-81a6-4d3e-d64a-b3f75fee609b"
      },
      "outputs": [
        {
          "output_type": "stream",
          "name": "stdout",
          "text": [
            " p vaule is  7\n",
            "a value is  10\n"
          ]
        }
      ],
      "source": [
        "#Write a Python program to swap two variables without using a third variable.\n",
        "p = 10\n",
        "a =7\n",
        "#swaping using arithmetic operations.\n",
        "p = p + a\n",
        "a = p-a\n",
        "p = p - a\n",
        "print(\" p vaule is \", p)\n",
        "print(\"a value is \", a)\n"
      ]
    },
    {
      "cell_type": "code",
      "source": [
        "#Write a Python program to find the type of a variable.\n",
        "\n",
        "p =10\n",
        "# we have inbuilt function to find the type\n",
        "print(type(p))"
      ],
      "metadata": {
        "colab": {
          "base_uri": "https://localhost:8080/"
        },
        "id": "QilRksJGG88R",
        "outputId": "a4823cd6-504f-44f7-9922-75cffb6ce529"
      },
      "execution_count": null,
      "outputs": [
        {
          "output_type": "stream",
          "name": "stdout",
          "text": [
            "<class 'int'>\n"
          ]
        }
      ]
    },
    {
      "cell_type": "code",
      "source": [
        "#Write a Python program that checks if a number is even or odd.\n",
        "\n",
        "p =10\n",
        "if p%2==0:\n",
        "  print(\"a number is even\")\n",
        "else:\n",
        "  print(\"a number is odd\")\n"
      ],
      "metadata": {
        "colab": {
          "base_uri": "https://localhost:8080/"
        },
        "id": "ZKE5XxrDHVTX",
        "outputId": "f6dcece4-50ce-4023-9ded-ddb8fe265e46"
      },
      "execution_count": null,
      "outputs": [
        {
          "output_type": "stream",
          "name": "stdout",
          "text": [
            "a number is even\n"
          ]
        }
      ]
    },
    {
      "cell_type": "markdown",
      "source": [
        " **logical operaters**\n",
        "using AND operater and or operater\n"
      ],
      "metadata": {
        "id": "Qf_UCnHDIPLP"
      }
    },
    {
      "cell_type": "code",
      "source": [
        "#Write a Python program to find the largest of three numbers.\n",
        "\n",
        "k =10\n",
        "l =23\n",
        "h =9\n",
        "if k>l and k>h:\n",
        "  print(\"k is largest number\")\n",
        "if l>k and l>h:\n",
        "  print(\"l is largest number\")\n",
        "if h>k and h>l:\n",
        "  print(\"h is largest number\")\n",
        "\n"
      ],
      "metadata": {
        "colab": {
          "base_uri": "https://localhost:8080/"
        },
        "id": "bw1pCivMHp8d",
        "outputId": "bc59d843-527f-4933-a0d2-5307f5a6352b"
      },
      "execution_count": null,
      "outputs": [
        {
          "output_type": "stream",
          "name": "stdout",
          "text": [
            "l is largest number\n"
          ]
        }
      ]
    },
    {
      "cell_type": "code",
      "source": [
        "#Write a Python program to print all numbers from 1 to 10 using a for loop.\n",
        "for i in range(1,11):\n",
        "  print(i)"
      ],
      "metadata": {
        "colab": {
          "base_uri": "https://localhost:8080/"
        },
        "id": "jsZUwL8rK6Fj",
        "outputId": "37264b53-c3d1-4a08-8693-76667197e584"
      },
      "execution_count": null,
      "outputs": [
        {
          "output_type": "stream",
          "name": "stdout",
          "text": [
            "1\n",
            "2\n",
            "3\n",
            "4\n",
            "5\n",
            "6\n",
            "7\n",
            "8\n",
            "9\n",
            "10\n"
          ]
        }
      ]
    },
    {
      "cell_type": "code",
      "source": [
        "#Write a Python program to perform set union and intersection.\n",
        "s = {1,2,3,4}\n",
        "s_2 ={3,4,5,7,8}\n",
        "u = s | s_2\n",
        "i = s & s_2\n",
        "\n",
        "print(s.union(s_2))\n",
        "print(s.intersection(s_2))"
      ],
      "metadata": {
        "colab": {
          "base_uri": "https://localhost:8080/"
        },
        "id": "VYAqP-zDMxYg",
        "outputId": "0b6aa4b6-cd89-4f0c-b0fb-2801de447b9a"
      },
      "execution_count": null,
      "outputs": [
        {
          "output_type": "stream",
          "name": "stdout",
          "text": [
            "{1, 2, 3, 4, 5, 7, 8}\n",
            "{3, 4}\n"
          ]
        }
      ]
    },
    {
      "cell_type": "code",
      "source": [
        "#Write a Python program to find the sum of all elements in a list.\n",
        "l =[3,4,5,6,7]\n",
        "print(sum(l))\n"
      ],
      "metadata": {
        "colab": {
          "base_uri": "https://localhost:8080/"
        },
        "id": "RJutpGGqODS2",
        "outputId": "b4048f30-0439-4f16-b976-5e27be98ead8"
      },
      "execution_count": null,
      "outputs": [
        {
          "output_type": "stream",
          "name": "stdout",
          "text": [
            "25\n"
          ]
        }
      ]
    },
    {
      "cell_type": "code",
      "source": [
        "#Write a Python program to remove duplicates from a list.\n",
        "l =[3,4,5,5,6,7,8,33,5,6,7,4,3,2,1,9.0]\n",
        "print(set(l))"
      ],
      "metadata": {
        "colab": {
          "base_uri": "https://localhost:8080/"
        },
        "id": "ZdG_sW5UON26",
        "outputId": "97696a74-38a8-4302-a063-7981db908178"
      },
      "execution_count": null,
      "outputs": [
        {
          "output_type": "stream",
          "name": "stdout",
          "text": [
            "{33, 2, 3, 4, 5, 6, 7, 8, 1, 9.0}\n"
          ]
        }
      ]
    },
    {
      "cell_type": "code",
      "source": [
        "#Write a Python program to find the maximum and minimum value in a list.\n",
        "l =[56,4,5,6,7,9,2,0]\n",
        "print(max(l))\n",
        "print(min(l))"
      ],
      "metadata": {
        "colab": {
          "base_uri": "https://localhost:8080/"
        },
        "id": "UVKLHuY0OjBV",
        "outputId": "bc33f5ac-038d-4162-9c9f-275958f0ba26"
      },
      "execution_count": null,
      "outputs": [
        {
          "output_type": "stream",
          "name": "stdout",
          "text": [
            "56\n",
            "0\n"
          ]
        }
      ]
    },
    {
      "cell_type": "code",
      "source": [
        "#Write a Python program to reverse a string.\n",
        "s = \"pavan bhaskar\"\n",
        "print(s[::-1])"
      ],
      "metadata": {
        "colab": {
          "base_uri": "https://localhost:8080/"
        },
        "id": "wDQOuD0COz0k",
        "outputId": "cd01d37c-3b18-4b0a-d932-6518e4fe57b6"
      },
      "execution_count": null,
      "outputs": [
        {
          "output_type": "stream",
          "name": "stdout",
          "text": [
            "raksahb navap\n"
          ]
        }
      ]
    },
    {
      "cell_type": "code",
      "source": [
        "#Write a Python program to count the number of vowels in a string.\n",
        "p = \"Pavan bhaskar\"\n",
        "vowels = \"aeiouAEIOU\"\n",
        "count = 0\n",
        "for char in p:\n",
        "  if char in vowels:\n",
        "    count += 1\n",
        "\n",
        "print(\"Number of vowels in the string:\", count)\n",
        "\n",
        "count = sum(p.count(vowel) for vowel in vowels)\n",
        "print(count)\n"
      ],
      "metadata": {
        "colab": {
          "base_uri": "https://localhost:8080/"
        },
        "id": "dZjAcPNuPDFI",
        "outputId": "380263f8-5545-4c71-cebc-2c1f9a3ec23d"
      },
      "execution_count": null,
      "outputs": [
        {
          "output_type": "stream",
          "name": "stdout",
          "text": [
            "Number of vowels in the string: 4\n",
            "4\n"
          ]
        }
      ]
    },
    {
      "cell_type": "code",
      "source": [
        "#Write a Python program to create a dictionary and print all the keys and values.\n",
        "d ={\"name\":\"pavan\", \"Age\": 25 , \"City\":\"Kansas City\"}\n",
        "print(d.keys())\n",
        "print(d.values())"
      ],
      "metadata": {
        "colab": {
          "base_uri": "https://localhost:8080/"
        },
        "id": "xfziKwlyTLy7",
        "outputId": "e50c69fa-ffab-450f-a35c-4e79fc0a6602"
      },
      "execution_count": null,
      "outputs": [
        {
          "output_type": "stream",
          "name": "stdout",
          "text": [
            "dict_keys(['name', 'Age', 'City'])\n",
            "dict_values(['pavan', 25, 'Kansas City'])\n"
          ]
        }
      ]
    },
    {
      "cell_type": "code",
      "source": [
        "#Write a Python program to check if a key exists in a dictionary.\n",
        "\n",
        "if \"age\" in d:\n",
        "  print(\"key exists\")\n",
        "else:\n",
        "  print(\"key does not exists\")"
      ],
      "metadata": {
        "colab": {
          "base_uri": "https://localhost:8080/"
        },
        "id": "b91DV-5gTMSr",
        "outputId": "b741227f-630b-4bc4-f8c5-047e50cdff29"
      },
      "execution_count": null,
      "outputs": [
        {
          "output_type": "stream",
          "name": "stdout",
          "text": [
            "key does not exists\n"
          ]
        }
      ]
    },
    {
      "cell_type": "code",
      "source": [
        "#Write a Python program to find the index of an element in a tuple.\n",
        "data =(\"a\",\"b\",\"c\",\"d\",\"e\")\n",
        "index = data.index(\"d\")\n",
        "print(index)\n"
      ],
      "metadata": {
        "colab": {
          "base_uri": "https://localhost:8080/"
        },
        "id": "xpUktj4gUety",
        "outputId": "f5f9d70e-050b-41b9-d4f3-908cb6995d5d"
      },
      "execution_count": null,
      "outputs": [
        {
          "output_type": "stream",
          "name": "stdout",
          "text": [
            "2\n"
          ]
        }
      ]
    },
    {
      "cell_type": "code",
      "source": [
        "#Write a Python program to add an element to a set.\n",
        "k = {3,4,5,7}\n",
        "k.add(9)\n",
        "print(k)\n"
      ],
      "metadata": {
        "colab": {
          "base_uri": "https://localhost:8080/"
        },
        "id": "eJWuup0SViDw",
        "outputId": "58574e36-515c-4646-e61b-17a2e4d1b192"
      },
      "execution_count": null,
      "outputs": [
        {
          "output_type": "stream",
          "name": "stdout",
          "text": [
            "{3, 4, 5, 7, 9}\n"
          ]
        }
      ]
    },
    {
      "cell_type": "code",
      "source": [],
      "metadata": {
        "id": "yhYimsggUFmZ"
      },
      "execution_count": null,
      "outputs": []
    }
  ]
}